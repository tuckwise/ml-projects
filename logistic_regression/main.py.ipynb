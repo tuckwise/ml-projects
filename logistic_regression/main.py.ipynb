{
 "cells": [
  {
   "cell_type": "markdown",
   "id": "4d7054bb",
   "metadata": {},
   "source": [
    "# Mental Health in Gaming \n",
    "\n",
    "## Introduction\n",
    "<p>In this project I want to explore any correlation between anxiety and gaming. I am someone who has struggled severely with anxiety in the past. I am also someone who very much enjoys gaming. Those things being said, this project is very interesting to me and I am very excited to see what the data has to say.</p>\n",
    "\n",
    "## The Data\n",
    "In this project I am using a dataset titled 'Online Gaming Anxiety Dataset.' It was posted on Kaggle by Divyansh Agrawal. <br>\n",
    "**Link:** https://www.kaggle.com/datasets/divyansh22/online-gaming-anxiety-data <br>\n",
    "The data includes of user-entered responses to the GAD-7 questionnaire, as well as responses to question pretaining to gaming, i.e., how many hours a week one plays, why they play, gaming platform."
   ]
  },
  {
   "cell_type": "code",
   "execution_count": 319,
   "id": "2137fc18",
   "metadata": {},
   "outputs": [],
   "source": [
    "import pandas as pd\n",
    "import numpy as np\n",
    "import matplotlib.pyplot as plt"
   ]
  },
  {
   "cell_type": "markdown",
   "id": "e042f874",
   "metadata": {},
   "source": [
    "# Importing the Data"
   ]
  },
  {
   "cell_type": "code",
   "execution_count": 320,
   "id": "c1ab544f",
   "metadata": {},
   "outputs": [],
   "source": [
    "df = pd.read_csv('anxiety_gaming_data.csv', index_col = 'S. No.')"
   ]
  },
  {
   "cell_type": "code",
   "execution_count": 412,
   "id": "a61c9bb2",
   "metadata": {
    "scrolled": true
   },
   "outputs": [
    {
     "data": {
      "text/plain": [
       "Index(['Timestamp', 'GAD1', 'GAD2', 'GAD3', 'GAD4', 'GAD5', 'GAD6', 'GAD7',\n",
       "       'GADE', 'SWL1', 'SWL2', 'SWL3', 'SWL4', 'SWL5', 'Game', 'Platform',\n",
       "       'Hours', 'earnings', 'whyplay', 'League', 'highestleague', 'streams',\n",
       "       'SPIN1', 'SPIN2', 'SPIN3', 'SPIN4', 'SPIN5', 'SPIN6', 'SPIN7', 'SPIN8',\n",
       "       'SPIN9', 'SPIN10', 'SPIN11', 'SPIN12', 'SPIN13', 'SPIN14', 'SPIN15',\n",
       "       'SPIN16', 'SPIN17', 'Narcissism', 'Gender', 'Age', 'Work', 'Degree',\n",
       "       'Birthplace', 'Residence', 'Reference', 'Playstyle', 'accept', 'GAD_T',\n",
       "       'SWL_T', 'SPIN_T', 'Residence_ISO3', 'Birthplace_ISO3'],\n",
       "      dtype='object')"
      ]
     },
     "execution_count": 412,
     "metadata": {},
     "output_type": "execute_result"
    }
   ],
   "source": [
    "df.columns"
   ]
  },
  {
   "cell_type": "markdown",
   "id": "ef294aff",
   "metadata": {},
   "source": [
    "## The Plan\n",
    "Looking at the different columns I can see a few questions that I want to try to answer (no particular hierarchy). <br>\n",
    "- I am interested in seeing any correlation between a gamer's playstyle, i.e., online, singleplayer, and their total anxiety score.\n",
    "- I am also interested in the correlation between a gamer's platform and their total life satisfaction score."
   ]
  },
  {
   "cell_type": "markdown",
   "id": "72390bfc",
   "metadata": {},
   "source": [
    "# Playstyle vs Anxiety Score"
   ]
  },
  {
   "cell_type": "markdown",
   "id": "703041b5",
   "metadata": {},
   "source": [
    "## Subsetting the Data and Relevant Cleaning\n",
    "Because I am only concerned with the playstyle and anxiety score in this first test, I am going to subset the dataframe so that we only have to worry about those columns. <br>"
   ]
  },
  {
   "cell_type": "code",
   "execution_count": 322,
   "id": "ac1177c2",
   "metadata": {},
   "outputs": [],
   "source": [
    "from sklearn.neighbors import KNeighborsClassifier"
   ]
  },
  {
   "cell_type": "code",
   "execution_count": 359,
   "id": "e124a154",
   "metadata": {},
   "outputs": [],
   "source": [
    "playstyle_anxiety = df[['Playstyle', 'GAD_T']]"
   ]
  },
  {
   "cell_type": "code",
   "execution_count": 362,
   "id": "9ee70961",
   "metadata": {},
   "outputs": [
    {
     "data": {
      "text/html": [
       "<div>\n",
       "<style scoped>\n",
       "    .dataframe tbody tr th:only-of-type {\n",
       "        vertical-align: middle;\n",
       "    }\n",
       "\n",
       "    .dataframe tbody tr th {\n",
       "        vertical-align: top;\n",
       "    }\n",
       "\n",
       "    .dataframe thead th {\n",
       "        text-align: right;\n",
       "    }\n",
       "</style>\n",
       "<table border=\"1\" class=\"dataframe\">\n",
       "  <thead>\n",
       "    <tr style=\"text-align: right;\">\n",
       "      <th></th>\n",
       "      <th>Playstyle</th>\n",
       "      <th>GAD_T</th>\n",
       "    </tr>\n",
       "    <tr>\n",
       "      <th>S. No.</th>\n",
       "      <th></th>\n",
       "      <th></th>\n",
       "    </tr>\n",
       "  </thead>\n",
       "  <tbody>\n",
       "    <tr>\n",
       "      <th>1</th>\n",
       "      <td>Singleplayer</td>\n",
       "      <td>1</td>\n",
       "    </tr>\n",
       "    <tr>\n",
       "      <th>2</th>\n",
       "      <td>Multiplayer - online - with strangers</td>\n",
       "      <td>8</td>\n",
       "    </tr>\n",
       "    <tr>\n",
       "      <th>3</th>\n",
       "      <td>Singleplayer</td>\n",
       "      <td>8</td>\n",
       "    </tr>\n",
       "    <tr>\n",
       "      <th>4</th>\n",
       "      <td>Multiplayer - online - with online acquaintanc...</td>\n",
       "      <td>0</td>\n",
       "    </tr>\n",
       "    <tr>\n",
       "      <th>5</th>\n",
       "      <td>Multiplayer - online - with strangers</td>\n",
       "      <td>14</td>\n",
       "    </tr>\n",
       "  </tbody>\n",
       "</table>\n",
       "</div>"
      ],
      "text/plain": [
       "                                                Playstyle  GAD_T\n",
       "S. No.                                                          \n",
       "1                                            Singleplayer      1\n",
       "2                   Multiplayer - online - with strangers      8\n",
       "3                                            Singleplayer      8\n",
       "4       Multiplayer - online - with online acquaintanc...      0\n",
       "5                   Multiplayer - online - with strangers     14"
      ]
     },
     "execution_count": 362,
     "metadata": {},
     "output_type": "execute_result"
    }
   ],
   "source": [
    "playstyle_anxiety.head()"
   ]
  },
  {
   "cell_type": "code",
   "execution_count": 325,
   "id": "a07c9c48",
   "metadata": {},
   "outputs": [
    {
     "name": "stdout",
     "output_type": "stream",
     "text": [
      "Multiplayer - online - with real life friends                    5564\n",
      "Multiplayer - online - with strangers                            4134\n",
      "Multiplayer - online - with online acquaintances or teammates    2652\n",
      "Singleplayer                                                      762\n",
      "Name: Playstyle, dtype: int64\n"
     ]
    }
   ],
   "source": [
    "print(playstyle_anxiety['Playstyle'].value_counts()[:4])"
   ]
  },
  {
   "cell_type": "code",
   "execution_count": 326,
   "id": "7e6e33f8",
   "metadata": {},
   "outputs": [],
   "source": [
    "# creating a dictionary so that we can differentiate between online and non-online gamers\n",
    "dict = {'Multiplayer - online - with real life friends' : 1, \n",
    "        'Multiplayer - online - with strangers' : 1,\n",
    "        'Multiplayer - online - with online acquaintances or teammates' : 1, \n",
    "        'Singleplayer' : 0}"
   ]
  },
  {
   "cell_type": "code",
   "execution_count": 363,
   "id": "ff81425e",
   "metadata": {},
   "outputs": [
    {
     "name": "stderr",
     "output_type": "stream",
     "text": [
      "C:\\Users\\tcapp\\AppData\\Local\\Temp\\ipykernel_17748\\2087456490.py:2: SettingWithCopyWarning: \n",
      "A value is trying to be set on a copy of a slice from a DataFrame.\n",
      "Try using .loc[row_indexer,col_indexer] = value instead\n",
      "\n",
      "See the caveats in the documentation: https://pandas.pydata.org/pandas-docs/stable/user_guide/indexing.html#returning-a-view-versus-a-copy\n",
      "  playstyle_anxiety['Playstyle'] = playstyle_anxiety['Playstyle'].map(dict)\n"
     ]
    }
   ],
   "source": [
    "# this will allow us differentiate between online players and non-online players\n",
    "playstyle_anxiety['Playstyle'] = playstyle_anxiety['Playstyle'].map(dict) "
   ]
  },
  {
   "cell_type": "code",
   "execution_count": 364,
   "id": "d453abf1",
   "metadata": {},
   "outputs": [
    {
     "name": "stderr",
     "output_type": "stream",
     "text": [
      "C:\\Users\\tcapp\\AppData\\Local\\Temp\\ipykernel_17748\\16384592.py:2: SettingWithCopyWarning: \n",
      "A value is trying to be set on a copy of a slice from a DataFrame.\n",
      "Try using .loc[row_indexer,col_indexer] = value instead\n",
      "\n",
      "See the caveats in the documentation: https://pandas.pydata.org/pandas-docs/stable/user_guide/indexing.html#returning-a-view-versus-a-copy\n",
      "  playstyle_anxiety['Playstyle'] = playstyle_anxiety['Playstyle'].astype(float)\n"
     ]
    }
   ],
   "source": [
    "# this will turn any string value of playstyle to NA, so we can drop it\n",
    "playstyle_anxiety['Playstyle'] = playstyle_anxiety['Playstyle'].astype(float)"
   ]
  },
  {
   "cell_type": "code",
   "execution_count": 366,
   "id": "e6ec0727",
   "metadata": {},
   "outputs": [],
   "source": [
    "# dropping the rows we do not care about\n",
    "# now we have a dataframe that has only playstyle (online vs singleplayer) and the total anxiety score\n",
    "playstyle_anxiety = playstyle_anxiety.dropna()"
   ]
  },
  {
   "cell_type": "markdown",
   "id": "da4515fa",
   "metadata": {},
   "source": [
    "## Choosing Logistic Regression Model\n",
    "I believe that, based on our data, we should use a logistic regression model. <br>\n",
    "We can use this model to predict the likelihood of someone being an online or single player gamer based on their anxiety score."
   ]
  },
  {
   "cell_type": "code",
   "execution_count": 367,
   "id": "f6cbccf0",
   "metadata": {},
   "outputs": [],
   "source": [
    "from sklearn.preprocessing import StandardScaler\n",
    "from sklearn.model_selection import train_test_split\n",
    "from sklearn.linear_model import LogisticRegression, LinearRegression"
   ]
  },
  {
   "cell_type": "code",
   "execution_count": 447,
   "id": "bb668a0a",
   "metadata": {},
   "outputs": [
    {
     "name": "stdout",
     "output_type": "stream",
     "text": [
      "13087\n",
      "13087\n"
     ]
    }
   ],
   "source": [
    "# Here I am assigning my feature and label and also making sure that they are the same size\n",
    "X = playstyle_anxiety[['GAD_T']]\n",
    "y = playstyle_anxiety[['Playstyle']]\n",
    "print(sum(X.value_counts()))\n",
    "print(sum(y.value_counts()))"
   ]
  },
  {
   "cell_type": "code",
   "execution_count": 455,
   "id": "c121d7bd",
   "metadata": {},
   "outputs": [],
   "source": [
    "# first we want to scale our GAD_T data so that it looks like a normal distribution \n",
    "scaler = StandardScaler()\n",
    "scaler.fit(X)\n",
    "X = scaler.transform(X)\n",
    "X = X.reshape(-1, 1)"
   ]
  },
  {
   "cell_type": "code",
   "execution_count": 468,
   "id": "ae956b5e",
   "metadata": {},
   "outputs": [],
   "source": [
    "# now we can split our data into training and testing data\n",
    "X_train, X_test, y_train, y_test = train_test_split(X, y, test_size=0.1, random_state = 2)"
   ]
  },
  {
   "cell_type": "code",
   "execution_count": 469,
   "id": "877cf2ef",
   "metadata": {},
   "outputs": [
    {
     "data": {
      "text/plain": [
       "LogisticRegression()"
      ]
     },
     "execution_count": 469,
     "metadata": {},
     "output_type": "execute_result"
    }
   ],
   "source": [
    "lr_model = LogisticRegression()\n",
    "lr_model.fit(X_train, y_train.values.ravel())"
   ]
  },
  {
   "cell_type": "code",
   "execution_count": 470,
   "id": "a96bf250",
   "metadata": {},
   "outputs": [
    {
     "name": "stdout",
     "output_type": "stream",
     "text": [
      "[[-0.1176688]] [2.79938456]\n"
     ]
    }
   ],
   "source": [
    "print(lr_model.coef_, lr_model.intercept_)"
   ]
  },
  {
   "cell_type": "code",
   "execution_count": 471,
   "id": "5dc37924",
   "metadata": {},
   "outputs": [],
   "source": [
    "y_pred = lr_model.predict(X_test)"
   ]
  },
  {
   "cell_type": "code",
   "execution_count": 472,
   "id": "a86aee9a",
   "metadata": {},
   "outputs": [
    {
     "name": "stdout",
     "output_type": "stream",
     "text": [
      "[[   0   80]\n",
      " [   0 1229]]\n"
     ]
    }
   ],
   "source": [
    "from sklearn.metrics import confusion_matrix\n",
    "conmat = confusion_matrix(y_test, y_pred)\n",
    "print(conmat)"
   ]
  },
  {
   "cell_type": "code",
   "execution_count": 473,
   "id": "cdda2401",
   "metadata": {
    "scrolled": true
   },
   "outputs": [
    {
     "name": "stdout",
     "output_type": "stream",
     "text": [
      "0.9684791174152876\n"
     ]
    }
   ],
   "source": [
    "# Print F1 score here:\n",
    "from sklearn.metrics import f1_score\n",
    "print(f1_score(y_test, y_pred))"
   ]
  },
  {
   "cell_type": "markdown",
   "id": "d24ea51f",
   "metadata": {},
   "source": [
    "## Hmm.. There's a problem.\n",
    "It seems that the model is predicting that every gamer would be an online gamer. While this makes the accouracy of the model very high (93.67%), I do not believe that it is okay in this case. As we can see from our input data, 94.1% of gamers are online gamers. We could not even have created a model here, but simply guessed that everyone games online. <br>\n",
    "Its possible that this indicates there is no correlation between the feature and the label. Or, considering that there\n",
    "are a ton of online labels and not as many singleplayer labels, maybe we just need better data. <br>\n",
    "We could also try to include more than one feature."
   ]
  },
  {
   "cell_type": "code",
   "execution_count": 474,
   "id": "7d154429",
   "metadata": {},
   "outputs": [],
   "source": [
    "playstyle_anxiety['Hours Played'] = df['Hours']"
   ]
  },
  {
   "cell_type": "code",
   "execution_count": 475,
   "id": "c9bb2ad5",
   "metadata": {},
   "outputs": [
    {
     "data": {
      "text/plain": [
       "False"
      ]
     },
     "execution_count": 475,
     "metadata": {},
     "output_type": "execute_result"
    }
   ],
   "source": [
    "playstyle_anxiety = playstyle_anxiety.dropna()\n",
    "playstyle_anxiety.isnull().values.any()"
   ]
  },
  {
   "cell_type": "code",
   "execution_count": 482,
   "id": "d57f3a90",
   "metadata": {},
   "outputs": [
    {
     "name": "stdout",
     "output_type": "stream",
     "text": [
      "13087\n",
      "13087\n"
     ]
    }
   ],
   "source": [
    "X = playstyle_anxiety[['GAD_T', 'Hours Played']]\n",
    "y = playstyle_anxiety[['Playstyle']]\n",
    "print(sum(X.value_counts()))\n",
    "print(sum(y.value_counts()))"
   ]
  },
  {
   "cell_type": "code",
   "execution_count": 494,
   "id": "fe1b6bf7",
   "metadata": {},
   "outputs": [],
   "source": [
    "scaler = StandardScaler()\n",
    "scaler.fit(X)\n",
    "X = scaler.transform(X)"
   ]
  },
  {
   "cell_type": "code",
   "execution_count": 500,
   "id": "54808219",
   "metadata": {},
   "outputs": [],
   "source": [
    "X_train, X_test, y_train, y_test = train_test_split(X, y, test_size=0.1, random_state = 2)"
   ]
  },
  {
   "cell_type": "code",
   "execution_count": 501,
   "id": "d9f9207c",
   "metadata": {},
   "outputs": [
    {
     "data": {
      "text/plain": [
       "LogisticRegression()"
      ]
     },
     "execution_count": 501,
     "metadata": {},
     "output_type": "execute_result"
    }
   ],
   "source": [
    "lr_model = LogisticRegression()\n",
    "lr_model.fit(X_train, y_train.values.ravel())"
   ]
  },
  {
   "cell_type": "code",
   "execution_count": 502,
   "id": "d815caae",
   "metadata": {},
   "outputs": [
    {
     "name": "stdout",
     "output_type": "stream",
     "text": [
      "[[-0.11777425 -0.03967282]] [2.80034266]\n"
     ]
    }
   ],
   "source": [
    "print(lr_model.coef_, lr_model.intercept_)"
   ]
  },
  {
   "cell_type": "code",
   "execution_count": 503,
   "id": "e43a18d5",
   "metadata": {},
   "outputs": [],
   "source": [
    "y_pred = lr_model.predict(X_test)"
   ]
  },
  {
   "cell_type": "code",
   "execution_count": 504,
   "id": "acda5ebe",
   "metadata": {},
   "outputs": [
    {
     "name": "stdout",
     "output_type": "stream",
     "text": [
      "[[   0   80]\n",
      " [   0 1229]]\n"
     ]
    }
   ],
   "source": [
    "conmat = confusion_matrix(y_test, y_pred)\n",
    "print(conmat)"
   ]
  },
  {
   "cell_type": "markdown",
   "id": "a9485204",
   "metadata": {},
   "source": [
    "## Well, it may be time to move on.\n",
    "It seems that adding an extra feature did nothing for the model. I believe this is due to the fact that there are so many online gamers compared to offline gamers in the dataset."
   ]
  },
  {
   "cell_type": "markdown",
   "id": "4093aa31",
   "metadata": {},
   "source": [
    "# Gaming Platform vs Life Satisfaction"
   ]
  },
  {
   "cell_type": "code",
   "execution_count": null,
   "id": "dfc44561",
   "metadata": {},
   "outputs": [],
   "source": []
  }
 ],
 "metadata": {
  "kernelspec": {
   "display_name": "Python 3 (ipykernel)",
   "language": "python",
   "name": "python3"
  },
  "language_info": {
   "codemirror_mode": {
    "name": "ipython",
    "version": 3
   },
   "file_extension": ".py",
   "mimetype": "text/x-python",
   "name": "python",
   "nbconvert_exporter": "python",
   "pygments_lexer": "ipython3",
   "version": "3.9.13"
  }
 },
 "nbformat": 4,
 "nbformat_minor": 5
}
